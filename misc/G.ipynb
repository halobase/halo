{
 "cells": [
  {
   "cell_type": "code",
   "execution_count": 1,
   "metadata": {},
   "outputs": [],
   "source": [
    "from langchain_text_splitters import RecursiveCharacterTextSplitter\n",
    "from langchain_community.document_loaders import PyPDFLoader\n",
    "loader = PyPDFLoader('./李高效生产及绿色防控技术.pdf')\n",
    "splitter = RecursiveCharacterTextSplitter()\n",
    "chunks = splitter.split_documents(loader.lazy_load())"
   ]
  },
  {
   "cell_type": "code",
   "execution_count": 47,
   "metadata": {},
   "outputs": [
    {
     "data": {
      "text/plain": [
       "[Document(page_content='李产业发展现状\\n一、中国李产业现状\\n(一)栽培历史\\n我国李栽培历史久远，原始居民就有采食野生李果的习惯，先民\\n的长期定居生活是造成李、杏等果树出现人控种群的基础，认识到果\\n树的价值，开始有意识地种植。\\n李是中国栽培历史最久的果树之一，《诗经》中就有不少关于李\\n的诗句，如“投我以桃，报之以李”“丘中有李，彼留之子”和“投\\n我以木李，报之以琼玖。匪报也，永以为好也”等。《山海经》中记\\n载有灵山“其木多桃、李、梅、杏”。《尔雅》中记载有“椄虑李”\\n“无实李”和“赤李”3个品种。《广志》记载，汉代修上林苑，收\\n集李品种15个。古籍中记载的李品种众多，如《洛阳花木记》中记载\\n的李品种有御皇李、麝香李、胡天李、黄干李、麦熟李、珍珠李、真\\n桃李、粉香李、小桃李、偏缝李、密缘李、栋枝李、牛心李、紫灰\\n李、冬李、晚李、焦红李等，其中如牛心李、御皇李等品种名，至今\\n仍在沿用。在近代的考古发掘中，曾发掘出新石器和战国时代的李核\\n遗存，证明远在5000多年前，人们就有采食李果实的习惯。《两京\\n记》记载，唐朝东都洛阳的嘉庆坊出产一种品质优良的李，称之为\\n“嘉庆子”，逐渐成为李的别名，后来李干的生产增多，“嘉庆子”\\n这个名称被用来专指李干。\\n《齐民要术》记载“李性坚，实晚，五岁始子，是以藉栽”。据\\n·1·', metadata={'source': './李高效生产及绿色防控技术.pdf', 'page': 0}),\n",
       " Document(page_content='李高效生产及绿色防控技术\\n考证，“藉栽”指自根繁殖，即包括扦插、压条、分株等无性繁殖方\\n法。《洛阳花木记》中最早记载有李的嫁接繁殖，应用在李上的砧木\\n有桃、李、杏、梅，不同的砧木其成活率、寿命、果实风味不同，该\\n书还提出李的栽培距离，且“树大连阴，则子细而味不佳”“太密则\\n子小而不脆”。1857年清代的王逢辰撰写的《槜李谱》，是我国历\\n史上关于李的专著，书中分别从字义、栽种、分植、远移、接换、枯\\n蛀、花实、采摘、收贮、真伪、形体、价值、爪痕等28个方面加以\\n论述，如关于大小年结果的“花时晴雨调匀，则结子必繁，可望大\\n年；久晴过燥，久雨过湿，则子必稀少，即为小年；所最忌者雾，四\\n五月中若遇连朝重雾，子必尽落”。关于采摘的“逐日清晨视其树\\n上，青颗变为黄晕，若兰花色，且须透出朱砂红斑点，方可采摘。过\\n青太生，过红太熟”。\\n(二)栽培区域分布\\n李是我国分布最为广泛的果树之一，几乎各省份均有野生或栽\\n培。据调查，除青藏高原高海拔地区外，南至广东，北至黑龙江，从\\n东南沿海到新疆，都有栽培或野生的李资源，垂直分布最高可达海拔\\n4000米。中国李历经3000多年的栽培与驯化，自然形成一南一北两\\n大产区，南方产区为李生产和加工的传统产区，北方为我国鲜食李产\\n区。\\n1.南方产区南方产区是我国最大的李生产与加工出口区，包括\\n长江、秦岭、淮河以南区域。\\n(1)区域分布。本区包括江苏、安徽、浙江、福建、台湾、湖\\n北、湖南、江西、广东、广西、四川、重庆、贵州、云南等，是我国\\n亚热带和热带果树的生长区域。\\n(2)生态条件。本区主要属于亚热带至热带湿润季风气候，云\\n南、贵州、四川有部分温带、亚热带高原气候，主要分布在我国东部\\n秦岭淮河以南、热带季风气候型以北、青藏高原以东的地带。夏季炎\\n热，最热月平均气温大于22℃，气温的季节变化显著，四季分明。\\n年降水量一般在1000~1500毫米。同温带季风气候相比，季节变化基\\n本相似，只是冬季气温相对较高，年降水量增多。\\n·2·', metadata={'source': './李高效生产及绿色防控技术.pdf', 'page': 1}),\n",
       " Document(page_content='第一章李产业发展现状\\n年积温在4500~8000℃,最冷月平均气温0~15℃,是热带与温带的过\\n渡地带。本区受夏季风影响大，雨季长。每年5月夏季风从华南沿\\n海登陆，雨季开始。6、7月夏季风势力增强北抬，形成江淮准静止\\n锋，阴雨连绵，主要影响长江中下游地区和淮河流域。7、8月易形\\n成伏旱。9月降雨锋面南移至该区域，10月以后冷空气势力进一步\\n增强，夏季风移出该区域，雨季结束。此外，西南地区常受西南季\\n风影响，北方地区的冷空气及西南气流受地形阻挡而形成，常出现\\n连绵阴雨天气。\\n(3)资源品种。本区有中国李(包括变种㮈李)、欧洲李、美洲李\\n和樱桃李(红叶李变种)。中国李为主栽品种，其中华东、华中、华\\n南栽培品种多样。李资源耐高温，不耐寒冷。李果实较大，红肉类\\n型较多，比较有代表性的有福建的芙蓉李、㮈李，浙江的槜李，广\\n东的三华李、南华李，四川的江安李、青脆李、脆红李。\\n(4)主要产地。南方产区是全国李的最大产区，传统产地有江\\n苏、福建、浙江、江西、湖南、广东等地，具体有江苏徐州、浙江\\n东阳、福建永泰、广东信宜等。近年来李在西南地区发展迅速，如\\n贵州、重庆、四川，栽培面积增长快，其中贵州已成为国内李栽培\\n面积第一大省，产地有贵州遵义、铜仁，重庆巫山，四川宜宾，云\\n南昆明等。\\n2.北方产区北方产区的李主要以鲜食为主，包括东北、华北\\n及西北地区。\\n(1)区域分布。本区包括黑龙江、辽宁、吉林、河北、河南、\\n山东、山西、陕西、甘肃、青海、宁夏和新疆等地，是我国冷凉带\\n到温带落叶果树栽培区。\\n(2)生态条件。本区主要是温带大陆性气候和温带季风气候。\\n冬季气温低于0℃，夏季气温高于20℃，四季气温变化分明。最冷\\n月出现在1月，最热月在7月。全年降水量少，而且季节分配不\\n均，降水集中在夏季。北方地区年降水量多在400~800毫米，降水\\n集中在7、8月，这两个月是北方地区的汛期。每年的春季少雨，常\\n有干旱，春旱严重。\\n·3·', metadata={'source': './李高效生产及绿色防控技术.pdf', 'page': 2}),\n",
       " Document(page_content='李高效生产及绿色防控技术\\n(3)资源品种。本区主要栽培种为中国李，部分为欧洲李、杏李\\n和少量的樱桃李、美洲乌苏里李。其中东北地区李资源具有抗寒力强\\n的特点，华北地区李品种资源丰富、果实较大，除新疆主要以欧洲李\\n为栽培品种外，西北其他地区均以中国李为主栽品种，李资源抗寒、\\n抗旱、果实较小。\\n(4)主要产地。东北为李的传统主产区，其中的辽宁锦西、盖州\\n等地栽培时间久、种植集中，辽宁的设施栽培李技术在国内领先。河\\n北易县、昌黎，山东莱阳，河南济源等地栽培欧洲李较多。新疆是欧\\n洲李的原产地，近年来引进欧洲李品种试栽、筛选，主要集中在新疆\\n轮台、和硕、塔城、伽师、阿克苏等地。\\n(三)主要栽培品种\\n作为原产我国的传统果树，李的品种资源十分丰富，现在生产\\n上应用的栽培品种，既有地方特色品种，也有国外引进品种及选育\\n品种。世界李属植物有19~40个种，我国现有9个，整理载入《中\\n国果树志·李卷》的品种资源有719份。\\n20世纪70年代以前，我国李多为农户房前屋后零星栽培，品种\\n大多为地方传统品种或自然实生系，同名异物、同物异名现象普遍，\\n没有开展专业的李品种资源研究。改革开放以后，辽宁省果树科学研\\n究所开始在全国范围进行李杏资源调查和收集，对李品种资源进行系\\n统鉴定、评价和开发利用，随着市场需求的变化，种植趋于良种化，\\n品种去劣选优，逐渐出现集中栽培的区域性良种，如福建的芙蓉李、\\n㮈李，吉林长春的跃进李，辽宁的香蕉李，浙江的槜李、广东的三华\\n李等。\\n据不完全统计，截至2019年，我国自主育成、通过品种审定并\\n正式发表的李品种有76个，东北三省的科研单位育成品种39个，占\\n总数的52%，是我国李育种的主要单位，其次是新疆、山西、陕西、\\n广东等省份的科研院所。目前我国育成的李品种包括：\\n1六号李，它的母本和父本分别来自于窑门李和红干核，由吉林\\n省农业科学院于1956年杂交成功；', metadata={'source': './李高效生产及绿色防控技术.pdf', 'page': 3}),\n",
       " Document(page_content='第一章李产业发展现状\\n2绥棱红(北方1号)，它的母本和父本分别来自于小黄李和福摩萨，\\n由黑龙江省农业科学院浆果研究所于1964年杂交成功；\\n3奎冠，以窑门李为母本，由新疆奎屯农七师果树研究所于1969\\n年通过实生选种方式培育成功；\\n4金吉李，是济源黄甘李的芽变品种，由河南省林业科学研究\\n院于1970年培育成功；\\n5绥李3号，以寺田李为母本，由黑龙江省农业科学院浆果研\\n究所于1972年通过实生选种方式培育成功；\\n6奎丰，以窑门李为母本，由新疆奎屯农七师果树研究院于197\\n5年通过实生选种方式培育成功；\\n7奎丽，以窑门李为母本，由新疆奎屯农七师果树研究所于197\\n6年通过自然实生方式选种并培育成功；\\n8长李7号，以六号李为母本，由长春市郊区铁北园艺试验站\\n于1979年通过实生选种方式培育成功；\\n9长李17，以六号李为母本，同样由长春市郊区铁北园艺试验\\n站于1979年通过实生选种方式培育成功；\\n10龙园蜜李，它的母本和父本分别来自于横道河子大红李和福\\n摩萨，由黑龙江省农业科学院园艺研究所于1980年杂交成功；\\n11黄甘李1号，以黄甘李为母本，由河南省济源市林业工作站\\n于1980年通过实生选种方式培育成功；\\n12矮甜李，它的母本和父本分别来自于六号李和福摩萨，由黑\\n龙江省农业科学院牡丹江农业科学研究所与1981年杂交成功；\\n13牡丰李，它的母本和父本分别来自于巴彦大红袍和七月红，\\n由黑龙江省农业科学院牡丹江农业科学院研究所于1981年杂交成功；\\n14长李84，它的母本和父本分别来自于六号李和西瓜李，由吉\\n林省农业科学院果树研究所由1981年杂交成功；\\n15牡红甜李，它的母本和父本分别来自于巴彦大红袍和七月红，\\n由黑龙江省农业科学院牡丹江农业科学研究所于1981年杂交成功；\\n16龙园秋李，其母本和父本分别来自于九三杏梅和福摩萨，由\\n黑龙江省农业科学院园艺研究所于1982年杂交成功；\\n17吉胜李，它的母本由血肉李和绥李3号杂交而来，它的父本\\n来自于晚紫李，由中国农业科学院特产研究所/吉林省舒兰市园艺研\\n究所于1982年杂交成功；\\n18秋甜李，其母本和父本分别来自于黄水李和小核李，由黑龙\\n江省农业科学院牡丹江农业科学研究所于1982年杂交成功；\\n19龙园早李，其母本和父本分别来自于九三杏梅和福摩萨，由\\n黑龙江省农业科学院园艺分院于1982年杂交成功；', metadata={'source': './李高效生产及绿色防控技术.pdf', 'page': 4})]"
      ]
     },
     "execution_count": 47,
     "metadata": {},
     "output_type": "execute_result"
    }
   ],
   "source": [
    "chunks[:5]"
   ]
  },
  {
   "cell_type": "code",
   "execution_count": 3,
   "metadata": {},
   "outputs": [],
   "source": [
    "import pandas as pd"
   ]
  },
  {
   "cell_type": "code",
   "execution_count": 12,
   "metadata": {},
   "outputs": [],
   "source": [
    "df_chunks = pd.DataFrame({\n",
    "  'text': [chunk.page_content for chunk in chunks],\n",
    "  'source': [chunk.metadata['source'] for chunk in chunks],\n",
    "  'page': [chunk.metadata['page'] for chunk in chunks]\n",
    "})\n",
    "df_chunks.to_csv('chunks.csv', sep=\"|\", errors='ignore')"
   ]
  },
  {
   "cell_type": "code",
   "execution_count": 22,
   "metadata": {},
   "outputs": [
    {
     "data": {
      "text/html": [
       "<div>\n",
       "<style scoped>\n",
       "    .dataframe tbody tr th:only-of-type {\n",
       "        vertical-align: middle;\n",
       "    }\n",
       "\n",
       "    .dataframe tbody tr th {\n",
       "        vertical-align: top;\n",
       "    }\n",
       "\n",
       "    .dataframe thead th {\n",
       "        text-align: right;\n",
       "    }\n",
       "</style>\n",
       "<table border=\"1\" class=\"dataframe\">\n",
       "  <thead>\n",
       "    <tr style=\"text-align: right;\">\n",
       "      <th></th>\n",
       "      <th>text</th>\n",
       "      <th>source</th>\n",
       "      <th>page</th>\n",
       "    </tr>\n",
       "  </thead>\n",
       "  <tbody>\n",
       "    <tr>\n",
       "      <th>0</th>\n",
       "      <td>李产业发展现状\\n一、中国李产业现状\\n(一)栽培历史\\n我国李栽培历史久远，原始居民就有采...</td>\n",
       "      <td>./李高效生产及绿色防控技术.pdf</td>\n",
       "      <td>0</td>\n",
       "    </tr>\n",
       "    <tr>\n",
       "      <th>1</th>\n",
       "      <td>李高效生产及绿色防控技术\\n考证，“藉栽”指自根繁殖，即包括扦插、压条、分株等无性繁殖方\\n...</td>\n",
       "      <td>./李高效生产及绿色防控技术.pdf</td>\n",
       "      <td>1</td>\n",
       "    </tr>\n",
       "    <tr>\n",
       "      <th>2</th>\n",
       "      <td>第一章李产业发展现状\\n年积温在4500~8000℃,最冷月平均气温0~15℃,是热带与温带...</td>\n",
       "      <td>./李高效生产及绿色防控技术.pdf</td>\n",
       "      <td>2</td>\n",
       "    </tr>\n",
       "    <tr>\n",
       "      <th>3</th>\n",
       "      <td>李高效生产及绿色防控技术\\n(3)资源品种。本区主要栽培种为中国李，部分为欧洲李、杏李\\n和...</td>\n",
       "      <td>./李高效生产及绿色防控技术.pdf</td>\n",
       "      <td>3</td>\n",
       "    </tr>\n",
       "    <tr>\n",
       "      <th>4</th>\n",
       "      <td>第一章李产业发展现状\\n2绥棱红(北方1号)，它的母本和父本分别来自于小黄李和福摩萨，\\n由...</td>\n",
       "      <td>./李高效生产及绿色防控技术.pdf</td>\n",
       "      <td>4</td>\n",
       "    </tr>\n",
       "    <tr>\n",
       "      <th>...</th>\n",
       "      <td>...</td>\n",
       "      <td>...</td>\n",
       "      <td>...</td>\n",
       "    </tr>\n",
       "    <tr>\n",
       "      <th>145</th>\n",
       "      <td>第五章李贮运保鲜与加工\\n(5)预煮。预煮前用1.5%的食盐水护色，最后用清水淘洗1次。\\n...</td>\n",
       "      <td>./李高效生产及绿色防控技术.pdf</td>\n",
       "      <td>145</td>\n",
       "    </tr>\n",
       "    <tr>\n",
       "      <th>146</th>\n",
       "      <td>李高效生产及绿色防控技术\\n2.主要加工设施设备\\n(1)清洗设备。鼓泡清洗机、毛刷清洗机、...</td>\n",
       "      <td>./李高效生产及绿色防控技术.pdf</td>\n",
       "      <td>146</td>\n",
       "    </tr>\n",
       "    <tr>\n",
       "      <th>147</th>\n",
       "      <td>第五章李贮运保鲜与加工\\n4.产品质量要求\\n(1)感官指标。具有该品种李加工后应有的正常颜...</td>\n",
       "      <td>./李高效生产及绿色防控技术.pdf</td>\n",
       "      <td>147</td>\n",
       "    </tr>\n",
       "    <tr>\n",
       "      <th>148</th>\n",
       "      <td>李高效生产及绿色防控技术\\n(3)清洗。采用果蔬专用清洗设备清洗表面灰尘、腐叶、虫卵等\\n污...</td>\n",
       "      <td>./李高效生产及绿色防控技术.pdf</td>\n",
       "      <td>148</td>\n",
       "    </tr>\n",
       "    <tr>\n",
       "      <th>149</th>\n",
       "      <td>第五章李贮运保鲜与加工\\n主要参考文献\\n曹建康，姜微波，赵玉梅，等，2007.果蔬采收生理...</td>\n",
       "      <td>./李高效生产及绿色防控技术.pdf</td>\n",
       "      <td>149</td>\n",
       "    </tr>\n",
       "  </tbody>\n",
       "</table>\n",
       "<p>150 rows × 3 columns</p>\n",
       "</div>"
      ],
      "text/plain": [
       "                                                  text              source  \\\n",
       "0    李产业发展现状\\n一、中国李产业现状\\n(一)栽培历史\\n我国李栽培历史久远，原始居民就有采...  ./李高效生产及绿色防控技术.pdf   \n",
       "1    李高效生产及绿色防控技术\\n考证，“藉栽”指自根繁殖，即包括扦插、压条、分株等无性繁殖方\\n...  ./李高效生产及绿色防控技术.pdf   \n",
       "2    第一章李产业发展现状\\n年积温在4500~8000℃,最冷月平均气温0~15℃,是热带与温带...  ./李高效生产及绿色防控技术.pdf   \n",
       "3    李高效生产及绿色防控技术\\n(3)资源品种。本区主要栽培种为中国李，部分为欧洲李、杏李\\n和...  ./李高效生产及绿色防控技术.pdf   \n",
       "4    第一章李产业发展现状\\n2绥棱红(北方1号)，它的母本和父本分别来自于小黄李和福摩萨，\\n由...  ./李高效生产及绿色防控技术.pdf   \n",
       "..                                                 ...                 ...   \n",
       "145  第五章李贮运保鲜与加工\\n(5)预煮。预煮前用1.5%的食盐水护色，最后用清水淘洗1次。\\n...  ./李高效生产及绿色防控技术.pdf   \n",
       "146  李高效生产及绿色防控技术\\n2.主要加工设施设备\\n(1)清洗设备。鼓泡清洗机、毛刷清洗机、...  ./李高效生产及绿色防控技术.pdf   \n",
       "147  第五章李贮运保鲜与加工\\n4.产品质量要求\\n(1)感官指标。具有该品种李加工后应有的正常颜...  ./李高效生产及绿色防控技术.pdf   \n",
       "148  李高效生产及绿色防控技术\\n(3)清洗。采用果蔬专用清洗设备清洗表面灰尘、腐叶、虫卵等\\n污...  ./李高效生产及绿色防控技术.pdf   \n",
       "149  第五章李贮运保鲜与加工\\n主要参考文献\\n曹建康，姜微波，赵玉梅，等，2007.果蔬采收生理...  ./李高效生产及绿色防控技术.pdf   \n",
       "\n",
       "     page  \n",
       "0       0  \n",
       "1       1  \n",
       "2       2  \n",
       "3       3  \n",
       "4       4  \n",
       "..    ...  \n",
       "145   145  \n",
       "146   146  \n",
       "147   147  \n",
       "148   148  \n",
       "149   149  \n",
       "\n",
       "[150 rows x 3 columns]"
      ]
     },
     "execution_count": 22,
     "metadata": {},
     "output_type": "execute_result"
    }
   ],
   "source": [
    "df_chunks = pd.read_csv('chunks.csv', sep=\"|\", index_col=0)\n",
    "df_chunks"
   ]
  },
  {
   "cell_type": "code",
   "execution_count": 3,
   "metadata": {},
   "outputs": [],
   "source": [
    "ZhipuAI_API_KEY = '0a502a38484c564bb123ff9a27bc3d3c.KR9qWCf9jfjHeMmy'"
   ]
  },
  {
   "cell_type": "code",
   "execution_count": 4,
   "metadata": {},
   "outputs": [],
   "source": [
    "from zhipuai import ZhipuAI\n",
    "client = ZhipuAI(api_key=ZhipuAI_API_KEY)"
   ]
  },
  {
   "cell_type": "code",
   "execution_count": 52,
   "metadata": {},
   "outputs": [],
   "source": [
    "SYSTEM_PROMPT_SUBG = \"\"\"\n",
    "你是一个知识图谱构建专家，用户会给你一段文本，你的任务是准确地从这段文本里提取出实体和它们之间的关系，你可以按下面步骤进行：\n",
    "1. 实体可能是人、物体、时间、地点、组织等，尽可能保证实体的原子性和多样性。\n",
    "2. 一个实体可能与多个实体有关系，尽可能多地提取出关系。\n",
    "3. 将提取出的实体和关系按照如下三元组格式输出，只需要输出结果，不需要解释思路。\n",
    "   足球|属于|球类运动\n",
    "   人|踢|足球\n",
    "   疫苗|预防|疾病\n",
    "\"\"\"\n",
    "def subg(text: str):\n",
    "  res = client.chat.completions.create(\n",
    "    model=\"glm-3-turbo\",\n",
    "    messages=[\n",
    "      {\"role\": \"system\", \"content\": SYSTEM_PROMPT_SUBG},\n",
    "      {\"role\": \"user\", \"content\": text},\n",
    "    ]\n",
    "  )\n",
    "  return res.choices[0].message"
   ]
  },
  {
   "cell_type": "code",
   "execution_count": 53,
   "metadata": {},
   "outputs": [
    {
     "data": {
      "text/plain": [
       "CompletionMessage(content='李产业|发展|中国\\n李|属于|水果类\\n李|栽培|历史久远\\n原始居民|采食|李果\\n先民|种植|果树\\n《诗经》|记载|李\\n《山海经》|记载|桃、李、梅、杏\\n《尔雅》|记载|椄虑李、无实李、赤李\\n《广志》|记载|汉代修上林苑、收集李品种15个\\n《洛阳花木记》|记载|御皇李、麝香李等李品种\\n考古发掘|发现|新石器、战国时代李核遗存\\n唐朝|李别称|嘉庆子\\n李干|生产|增多\\n《齐民要术》|记载|李性坚、实晚、五岁始子', role='assistant', tool_calls=None)"
      ]
     },
     "execution_count": 53,
     "metadata": {},
     "output_type": "execute_result"
    }
   ],
   "source": [
    "text = df_chunks.iloc[0][\"text\"]\n",
    "message = subg(text)\n",
    "message\n"
   ]
  },
  {
   "cell_type": "code",
   "execution_count": 66,
   "metadata": {},
   "outputs": [
    {
     "name": "stderr",
     "output_type": "stream",
     "text": [
      "0it [00:00, ?it/s]"
     ]
    },
    {
     "name": "stderr",
     "output_type": "stream",
     "text": [
      "150it [00:09, 16.29it/s]\n"
     ]
    }
   ],
   "source": [
    "from tqdm import tqdm\n",
    "\n",
    "with open(\"_edges-33-119.csv\", \"w+\") as f:\n",
    "  for i, row in tqdm(df_chunks.iterrows()):\n",
    "    if i > 33 and i < 120:\n",
    "      content = subg(row[\"text\"]).content\n",
    "      lines = content.split(\"\\n\")\n",
    "      for line in lines:\n",
    "        f.write(f\"{line}|{i}\\n\")\n",
    "      f.flush()"
   ]
  },
  {
   "cell_type": "code",
   "execution_count": 2,
   "metadata": {},
   "outputs": [],
   "source": [
    "import pandas as pd"
   ]
  },
  {
   "cell_type": "code",
   "execution_count": 15,
   "metadata": {},
   "outputs": [],
   "source": [
    "from glob import glob\n",
    "\n",
    "with open(\"preprocessed/edges.csv\", \"w\") as w:\n",
    "  for file in glob(\"raw/*.csv\"):\n",
    "    with open(file) as r:\n",
    "      for line in r:\n",
    "        cells = line.split(\"|\")\n",
    "        if len(cells) != 4:\n",
    "          continue\n",
    "        w.write(line)"
   ]
  },
  {
   "cell_type": "code",
   "execution_count": 7,
   "metadata": {},
   "outputs": [
    {
     "data": {
      "text/html": [
       "<div>\n",
       "<style scoped>\n",
       "    .dataframe tbody tr th:only-of-type {\n",
       "        vertical-align: middle;\n",
       "    }\n",
       "\n",
       "    .dataframe tbody tr th {\n",
       "        vertical-align: top;\n",
       "    }\n",
       "\n",
       "    .dataframe thead th {\n",
       "        text-align: right;\n",
       "    }\n",
       "</style>\n",
       "<table border=\"1\" class=\"dataframe\">\n",
       "  <thead>\n",
       "    <tr style=\"text-align: right;\">\n",
       "      <th></th>\n",
       "      <th>u</th>\n",
       "      <th>e</th>\n",
       "      <th>v</th>\n",
       "      <th>d</th>\n",
       "    </tr>\n",
       "  </thead>\n",
       "  <tbody>\n",
       "    <tr>\n",
       "      <th>0</th>\n",
       "      <td>李贮运保鲜与加工</td>\n",
       "      <td>属于</td>\n",
       "      <td>食品加工领域</td>\n",
       "      <td>135</td>\n",
       "    </tr>\n",
       "    <tr>\n",
       "      <th>1</th>\n",
       "      <td>李果实</td>\n",
       "      <td>含有</td>\n",
       "      <td>酚类物质</td>\n",
       "      <td>135</td>\n",
       "    </tr>\n",
       "    <tr>\n",
       "      <th>2</th>\n",
       "      <td>酚类物质</td>\n",
       "      <td>包括</td>\n",
       "      <td>酚酸、黄烷醇、黄酮醇和花青苷</td>\n",
       "      <td>135</td>\n",
       "    </tr>\n",
       "    <tr>\n",
       "      <th>3</th>\n",
       "      <td>新绿原酸</td>\n",
       "      <td>属于</td>\n",
       "      <td>酚酸类物质</td>\n",
       "      <td>135</td>\n",
       "    </tr>\n",
       "    <tr>\n",
       "      <th>4</th>\n",
       "      <td>绿原酸</td>\n",
       "      <td>属于</td>\n",
       "      <td>酚酸类物质</td>\n",
       "      <td>135</td>\n",
       "    </tr>\n",
       "    <tr>\n",
       "      <th>...</th>\n",
       "      <td>...</td>\n",
       "      <td>...</td>\n",
       "      <td>...</td>\n",
       "      <td>...</td>\n",
       "    </tr>\n",
       "    <tr>\n",
       "      <th>3501</th>\n",
       "      <td>桃红颈天牛</td>\n",
       "      <td>防治</td>\n",
       "      <td>人工捕捉</td>\n",
       "      <td>119</td>\n",
       "    </tr>\n",
       "    <tr>\n",
       "      <th>3502</th>\n",
       "      <td>桃红颈天牛</td>\n",
       "      <td>防治</td>\n",
       "      <td>涂白剂</td>\n",
       "      <td>119</td>\n",
       "    </tr>\n",
       "    <tr>\n",
       "      <th>3503</th>\n",
       "      <td>桃红颈天牛</td>\n",
       "      <td>防治</td>\n",
       "      <td>昆虫病原线虫</td>\n",
       "      <td>119</td>\n",
       "    </tr>\n",
       "    <tr>\n",
       "      <th>3504</th>\n",
       "      <td>桃红颈天牛</td>\n",
       "      <td>防治</td>\n",
       "      <td>管氏肿腿蜂</td>\n",
       "      <td>119</td>\n",
       "    </tr>\n",
       "    <tr>\n",
       "      <th>3505</th>\n",
       "      <td>桃红颈天牛</td>\n",
       "      <td>防治</td>\n",
       "      <td>植物源杀虫剂</td>\n",
       "      <td>119</td>\n",
       "    </tr>\n",
       "  </tbody>\n",
       "</table>\n",
       "<p>3506 rows × 4 columns</p>\n",
       "</div>"
      ],
      "text/plain": [
       "             u   e               v    d\n",
       "0     李贮运保鲜与加工  属于          食品加工领域  135\n",
       "1          李果实  含有            酚类物质  135\n",
       "2         酚类物质  包括  酚酸、黄烷醇、黄酮醇和花青苷  135\n",
       "3         新绿原酸  属于           酚酸类物质  135\n",
       "4          绿原酸  属于           酚酸类物质  135\n",
       "...        ...  ..             ...  ...\n",
       "3501     桃红颈天牛  防治            人工捕捉  119\n",
       "3502     桃红颈天牛  防治             涂白剂  119\n",
       "3503     桃红颈天牛  防治          昆虫病原线虫  119\n",
       "3504     桃红颈天牛  防治           管氏肿腿蜂  119\n",
       "3505     桃红颈天牛  防治          植物源杀虫剂  119\n",
       "\n",
       "[3506 rows x 4 columns]"
      ]
     },
     "execution_count": 7,
     "metadata": {},
     "output_type": "execute_result"
    }
   ],
   "source": [
    "df_all = pd.read_csv(\"preprocessed/edges.csv\", sep=\"|\", names=[\"u\", \"e\", \"v\", \"d\"])\n",
    "df_all"
   ]
  },
  {
   "cell_type": "code",
   "execution_count": 10,
   "metadata": {},
   "outputs": [],
   "source": [
    "edges_semantic: dict[str, set[int]] = {}\n",
    "for i, row in df_all.iterrows():\n",
    "  u = row[\"u\"]\n",
    "  v = row[\"v\"]\n",
    "  e = row[\"e\"]\n",
    "  d = row[\"d\"]\n",
    "  k = f\"{u}|{e}|{v}\"\n",
    "  if k not in edges_semantic:\n",
    "    edges_semantic[k] = set()\n",
    "  edges_semantic[k].add(d)"
   ]
  },
  {
   "cell_type": "code",
   "execution_count": 11,
   "metadata": {},
   "outputs": [],
   "source": [
    "with open(\"preprocessed/edges-semantic.csv\", \"w\") as w:\n",
    "  for k, v in edges_semantic.items():\n",
    "    w.write(f\"{k}|{','.join([str(e) for e in list(v)])}\\n\")"
   ]
  },
  {
   "cell_type": "code",
   "execution_count": 13,
   "metadata": {},
   "outputs": [
    {
     "data": {
      "text/html": [
       "<div>\n",
       "<style scoped>\n",
       "    .dataframe tbody tr th:only-of-type {\n",
       "        vertical-align: middle;\n",
       "    }\n",
       "\n",
       "    .dataframe tbody tr th {\n",
       "        vertical-align: top;\n",
       "    }\n",
       "\n",
       "    .dataframe thead th {\n",
       "        text-align: right;\n",
       "    }\n",
       "</style>\n",
       "<table border=\"1\" class=\"dataframe\">\n",
       "  <thead>\n",
       "    <tr style=\"text-align: right;\">\n",
       "      <th></th>\n",
       "      <th>u</th>\n",
       "      <th>e</th>\n",
       "      <th>v</th>\n",
       "      <th>d</th>\n",
       "    </tr>\n",
       "  </thead>\n",
       "  <tbody>\n",
       "    <tr>\n",
       "      <th>17</th>\n",
       "      <td>褐变度</td>\n",
       "      <td>测定</td>\n",
       "      <td>美拉德反应</td>\n",
       "      <td>135</td>\n",
       "    </tr>\n",
       "    <tr>\n",
       "      <th>18</th>\n",
       "      <td>抗坏血酸降解</td>\n",
       "      <td>属于</td>\n",
       "      <td>非酶促褐变</td>\n",
       "      <td>135</td>\n",
       "    </tr>\n",
       "    <tr>\n",
       "      <th>19</th>\n",
       "      <td>酚类化合物的氧化聚合</td>\n",
       "      <td>属于</td>\n",
       "      <td>非酶促褐变</td>\n",
       "      <td>135</td>\n",
       "    </tr>\n",
       "    <tr>\n",
       "      <th>20</th>\n",
       "      <td>李高效生产及绿色防控技术</td>\n",
       "      <td>属于</td>\n",
       "      <td>农业技术</td>\n",
       "      <td>1,132,136,72,138,140,146,82,58,27</td>\n",
       "    </tr>\n",
       "    <tr>\n",
       "      <th>21</th>\n",
       "      <td>李</td>\n",
       "      <td>属于</td>\n",
       "      <td>水果类</td>\n",
       "      <td>130,136,12,22,29</td>\n",
       "    </tr>\n",
       "    <tr>\n",
       "      <th>22</th>\n",
       "      <td>吸光度值</td>\n",
       "      <td>属于</td>\n",
       "      <td>物理量</td>\n",
       "      <td>136</td>\n",
       "    </tr>\n",
       "    <tr>\n",
       "      <th>23</th>\n",
       "      <td>果汁</td>\n",
       "      <td>具有</td>\n",
       "      <td>非牛顿特性</td>\n",
       "      <td>136</td>\n",
       "    </tr>\n",
       "    <tr>\n",
       "      <th>24</th>\n",
       "      <td>屈服值</td>\n",
       "      <td>属于</td>\n",
       "      <td>物理量</td>\n",
       "      <td>136</td>\n",
       "    </tr>\n",
       "  </tbody>\n",
       "</table>\n",
       "</div>"
      ],
      "text/plain": [
       "               u   e      v                                  d\n",
       "17           褐变度  测定  美拉德反应                                135\n",
       "18        抗坏血酸降解  属于  非酶促褐变                                135\n",
       "19    酚类化合物的氧化聚合  属于  非酶促褐变                                135\n",
       "20  李高效生产及绿色防控技术  属于   农业技术  1,132,136,72,138,140,146,82,58,27\n",
       "21             李  属于    水果类                   130,136,12,22,29\n",
       "22          吸光度值  属于    物理量                                136\n",
       "23            果汁  具有  非牛顿特性                                136\n",
       "24           屈服值  属于    物理量                                136"
      ]
     },
     "execution_count": 13,
     "metadata": {},
     "output_type": "execute_result"
    }
   ],
   "source": [
    "df_semantic = pd.read_csv(\n",
    "  \"preprocessed/edges-semantic.csv\", \n",
    "  sep=\"|\", \n",
    "  names=[\"u\", \"e\", \"v\", \"d\"]\n",
    ")\n",
    "df_semantic.iloc[17:25]"
   ]
  },
  {
   "cell_type": "code",
   "execution_count": 14,
   "metadata": {},
   "outputs": [
    {
     "data": {
      "text/plain": [
       "'the number of vertices in a page on average: 27.106666666666666'"
      ]
     },
     "execution_count": 14,
     "metadata": {},
     "output_type": "execute_result"
    }
   ],
   "source": [
    "import json\n",
    "\n",
    "pages: dict[int, set[str]] = {}\n",
    "for i, row in df_all.iterrows():\n",
    "  page = row[\"d\"]\n",
    "  if page not in pages:\n",
    "    pages[page] = set()\n",
    "  pages[page].add(row[\"u\"])\n",
    "  pages[page].add(row[\"v\"])\n",
    "\n",
    "pages_to_save = {}\n",
    "for k, v in pages.items():\n",
    "  pages_to_save[k] = list(v)\n",
    "with open(\"preprocessed/pages.json\", \"w\", encoding=\"utf-8\") as w:\n",
    "  w.write(json.dumps(pages_to_save, ensure_ascii=False))\n",
    "  \n",
    "c = 0\n",
    "for k, v in pages.items():\n",
    "  c += len(v)\n",
    "f\"the number of vertices in a page on average: {c / len(pages)}\""
   ]
  },
  {
   "cell_type": "code",
   "execution_count": 15,
   "metadata": {},
   "outputs": [],
   "source": [
    "edges_contextual: dict[str, list[int]] = {}\n",
    "for page, vertices in pages_to_save.items():\n",
    "  for i in range(len(vertices)-1):\n",
    "    for j in range(i+1, len(vertices)):\n",
    "      k = f\"{vertices[i]}|上下文|{vertices[j]}\"\n",
    "      if k not in edges_contextual:\n",
    "        edges_contextual[k] = []\n",
    "      edges_contextual[k].append(page)"
   ]
  },
  {
   "cell_type": "code",
   "execution_count": 16,
   "metadata": {},
   "outputs": [],
   "source": [
    "with open(\"preprocessed/edges-contextual.csv\", \"w\") as w:\n",
    "  for k, v in edges_contextual.items():\n",
    "    w.write(f\"{k}|{','.join([str(e) for e in v])}\\n\")"
   ]
  },
  {
   "cell_type": "code",
   "execution_count": 17,
   "metadata": {},
   "outputs": [
    {
     "data": {
      "text/html": [
       "<div>\n",
       "<style scoped>\n",
       "    .dataframe tbody tr th:only-of-type {\n",
       "        vertical-align: middle;\n",
       "    }\n",
       "\n",
       "    .dataframe tbody tr th {\n",
       "        vertical-align: top;\n",
       "    }\n",
       "\n",
       "    .dataframe thead th {\n",
       "        text-align: right;\n",
       "    }\n",
       "</style>\n",
       "<table border=\"1\" class=\"dataframe\">\n",
       "  <thead>\n",
       "    <tr style=\"text-align: right;\">\n",
       "      <th></th>\n",
       "      <th>u</th>\n",
       "      <th>e</th>\n",
       "      <th>v</th>\n",
       "      <th>d</th>\n",
       "    </tr>\n",
       "  </thead>\n",
       "  <tbody>\n",
       "    <tr>\n",
       "      <th>0</th>\n",
       "      <td>矢车菊素-3-葡萄糖苷</td>\n",
       "      <td>上下文</td>\n",
       "      <td>花青苷物质</td>\n",
       "      <td>135</td>\n",
       "    </tr>\n",
       "    <tr>\n",
       "      <th>1</th>\n",
       "      <td>矢车菊素-3-葡萄糖苷</td>\n",
       "      <td>上下文</td>\n",
       "      <td>总酚含量</td>\n",
       "      <td>135</td>\n",
       "    </tr>\n",
       "    <tr>\n",
       "      <th>2</th>\n",
       "      <td>矢车菊素-3-葡萄糖苷</td>\n",
       "      <td>上下文</td>\n",
       "      <td>李果实</td>\n",
       "      <td>135</td>\n",
       "    </tr>\n",
       "    <tr>\n",
       "      <th>3</th>\n",
       "      <td>矢车菊素-3-葡萄糖苷</td>\n",
       "      <td>上下文</td>\n",
       "      <td>酚酸类物质</td>\n",
       "      <td>135</td>\n",
       "    </tr>\n",
       "    <tr>\n",
       "      <th>4</th>\n",
       "      <td>矢车菊素-3-葡萄糖苷</td>\n",
       "      <td>上下文</td>\n",
       "      <td>黄酮醇类物质</td>\n",
       "      <td>135</td>\n",
       "    </tr>\n",
       "    <tr>\n",
       "      <th>...</th>\n",
       "      <td>...</td>\n",
       "      <td>...</td>\n",
       "      <td>...</td>\n",
       "      <td>...</td>\n",
       "    </tr>\n",
       "    <tr>\n",
       "      <th>68877</th>\n",
       "      <td>杏</td>\n",
       "      <td>上下文</td>\n",
       "      <td>产卵</td>\n",
       "      <td>119</td>\n",
       "    </tr>\n",
       "    <tr>\n",
       "      <th>68878</th>\n",
       "      <td>杏</td>\n",
       "      <td>上下文</td>\n",
       "      <td>陕西</td>\n",
       "      <td>119</td>\n",
       "    </tr>\n",
       "    <tr>\n",
       "      <th>68879</th>\n",
       "      <td>广西</td>\n",
       "      <td>上下文</td>\n",
       "      <td>产卵</td>\n",
       "      <td>119</td>\n",
       "    </tr>\n",
       "    <tr>\n",
       "      <th>68880</th>\n",
       "      <td>广西</td>\n",
       "      <td>上下文</td>\n",
       "      <td>陕西</td>\n",
       "      <td>119</td>\n",
       "    </tr>\n",
       "    <tr>\n",
       "      <th>68881</th>\n",
       "      <td>产卵</td>\n",
       "      <td>上下文</td>\n",
       "      <td>陕西</td>\n",
       "      <td>119</td>\n",
       "    </tr>\n",
       "  </tbody>\n",
       "</table>\n",
       "<p>68882 rows × 4 columns</p>\n",
       "</div>"
      ],
      "text/plain": [
       "                 u    e       v    d\n",
       "0      矢车菊素-3-葡萄糖苷  上下文   花青苷物质  135\n",
       "1      矢车菊素-3-葡萄糖苷  上下文    总酚含量  135\n",
       "2      矢车菊素-3-葡萄糖苷  上下文     李果实  135\n",
       "3      矢车菊素-3-葡萄糖苷  上下文   酚酸类物质  135\n",
       "4      矢车菊素-3-葡萄糖苷  上下文  黄酮醇类物质  135\n",
       "...            ...  ...     ...  ...\n",
       "68877            杏  上下文      产卵  119\n",
       "68878            杏  上下文      陕西  119\n",
       "68879           广西  上下文      产卵  119\n",
       "68880           广西  上下文      陕西  119\n",
       "68881           产卵  上下文      陕西  119\n",
       "\n",
       "[68882 rows x 4 columns]"
      ]
     },
     "execution_count": 17,
     "metadata": {},
     "output_type": "execute_result"
    }
   ],
   "source": [
    "df_contextual = pd.read_csv(\n",
    "  \"preprocessed/edges-contextual.csv\", \n",
    "  sep=\"|\",\n",
    "  names=[\"u\", \"e\", \"v\", \"d\"]\n",
    ")\n",
    "df_contextual"
   ]
  },
  {
   "cell_type": "code",
   "execution_count": 18,
   "metadata": {},
   "outputs": [
    {
     "data": {
      "text/html": [
       "<div>\n",
       "<style scoped>\n",
       "    .dataframe tbody tr th:only-of-type {\n",
       "        vertical-align: middle;\n",
       "    }\n",
       "\n",
       "    .dataframe tbody tr th {\n",
       "        vertical-align: top;\n",
       "    }\n",
       "\n",
       "    .dataframe thead th {\n",
       "        text-align: right;\n",
       "    }\n",
       "</style>\n",
       "<table border=\"1\" class=\"dataframe\">\n",
       "  <thead>\n",
       "    <tr style=\"text-align: right;\">\n",
       "      <th></th>\n",
       "      <th>u</th>\n",
       "      <th>e</th>\n",
       "      <th>v</th>\n",
       "      <th>d</th>\n",
       "    </tr>\n",
       "  </thead>\n",
       "  <tbody>\n",
       "    <tr>\n",
       "      <th>1516</th>\n",
       "      <td>特级果：果形端正</td>\n",
       "      <td>上下文</td>\n",
       "      <td>基本要求：果实完整</td>\n",
       "      <td>136</td>\n",
       "    </tr>\n",
       "    <tr>\n",
       "      <th>1517</th>\n",
       "      <td>特级果：果形端正</td>\n",
       "      <td>上下文</td>\n",
       "      <td>风味：肉质脆嫩</td>\n",
       "      <td>136</td>\n",
       "    </tr>\n",
       "    <tr>\n",
       "      <th>1518</th>\n",
       "      <td>李</td>\n",
       "      <td>上下文</td>\n",
       "      <td>基本要求：整齐度好</td>\n",
       "      <td>136</td>\n",
       "    </tr>\n",
       "    <tr>\n",
       "      <th>1519</th>\n",
       "      <td>李</td>\n",
       "      <td>上下文</td>\n",
       "      <td>受成熟度影响</td>\n",
       "      <td>136</td>\n",
       "    </tr>\n",
       "    <tr>\n",
       "      <th>1520</th>\n",
       "      <td>李</td>\n",
       "      <td>上下文</td>\n",
       "      <td>特级果：果粉完整</td>\n",
       "      <td>136</td>\n",
       "    </tr>\n",
       "    <tr>\n",
       "      <th>1521</th>\n",
       "      <td>李</td>\n",
       "      <td>上下文</td>\n",
       "      <td>形态：近圆形</td>\n",
       "      <td>136</td>\n",
       "    </tr>\n",
       "    <tr>\n",
       "      <th>1522</th>\n",
       "      <td>李</td>\n",
       "      <td>上下文</td>\n",
       "      <td>风味：酸甜适度</td>\n",
       "      <td>136</td>\n",
       "    </tr>\n",
       "    <tr>\n",
       "      <th>1523</th>\n",
       "      <td>李</td>\n",
       "      <td>上下文</td>\n",
       "      <td>一级果：脆嫩化渣</td>\n",
       "      <td>136</td>\n",
       "    </tr>\n",
       "  </tbody>\n",
       "</table>\n",
       "</div>"
      ],
      "text/plain": [
       "             u    e          v    d\n",
       "1516  特级果：果形端正  上下文  基本要求：果实完整  136\n",
       "1517  特级果：果形端正  上下文    风味：肉质脆嫩  136\n",
       "1518         李  上下文  基本要求：整齐度好  136\n",
       "1519         李  上下文     受成熟度影响  136\n",
       "1520         李  上下文   特级果：果粉完整  136\n",
       "1521         李  上下文     形态：近圆形  136\n",
       "1522         李  上下文    风味：酸甜适度  136\n",
       "1523         李  上下文   一级果：脆嫩化渣  136"
      ]
     },
     "execution_count": 18,
     "metadata": {},
     "output_type": "execute_result"
    }
   ],
   "source": [
    "df_contextual.iloc[1516:1524]"
   ]
  },
  {
   "cell_type": "code",
   "execution_count": 21,
   "metadata": {},
   "outputs": [],
   "source": [
    "from pyvis.network import Network\n",
    "from networkx import Graph, DiGraph"
   ]
  },
  {
   "cell_type": "code",
   "execution_count": 22,
   "metadata": {},
   "outputs": [
    {
     "data": {
      "text/plain": [
       "3208"
      ]
     },
     "execution_count": 22,
     "metadata": {},
     "output_type": "execute_result"
    }
   ],
   "source": [
    "V: set[str] = set()\n",
    "for i, row in df_semantic.iterrows():\n",
    "    u = row[\"u\"]\n",
    "    v = row[\"v\"]\n",
    "    V.add(u)\n",
    "    V.add(v)\n",
    "len(V)"
   ]
  },
  {
   "cell_type": "code",
   "execution_count": 23,
   "metadata": {},
   "outputs": [],
   "source": [
    "G = DiGraph()\n",
    "G.add_nodes_from(list(V))\n",
    "for i, row in df_semantic.iterrows():\n",
    "    u = row[\"u\"]\n",
    "    v = row[\"v\"]\n",
    "    e = row[\"e\"]\n",
    "    d = row[\"d\"].split(\",\")\n",
    "    G.add_edge(u, v, label=e, weight=len(d), chunks=d)"
   ]
  },
  {
   "cell_type": "code",
   "execution_count": 24,
   "metadata": {},
   "outputs": [
    {
     "data": {
      "text/plain": [
       "[('欧洲李', '李属植物', {'label': '属于', 'weight': 2, 'chunks': ['3', '15']}),\n",
       " ('欧洲李', '李产业', {'label': '属于', 'weight': 1, 'chunks': ['2']}),\n",
       " ('欧洲李', '樱桃李', {'label': '起源', 'weight': 1, 'chunks': ['15']}),\n",
       " ('欧洲李', '黑刺李', {'label': '起源', 'weight': 1, 'chunks': ['15']}),\n",
       " ('欧洲李', '土耳其', {'label': '自然化', 'weight': 1, 'chunks': ['15']}),\n",
       " ('欧洲李', '新疆伊犁', {'label': '分布', 'weight': 1, 'chunks': ['15']}),\n",
       " ('欧洲李', '丝绸之路', {'label': '传播途径', 'weight': 1, 'chunks': ['15']}),\n",
       " ('欧洲李', '抗氧化活性', {'label': '具有', 'weight': 1, 'chunks': ['28']}),\n",
       " ('欧洲李', '低密度脂蛋白胆固醇(LDL-C)水平', {'label': '降低', 'weight': 1, 'chunks': ['28']}),\n",
       " ('欧洲李', '可溶性膳食纤维', {'label': '富含', 'weight': 1, 'chunks': ['28']}),\n",
       " ('欧洲李', '果胶', {'label': '含有', 'weight': 1, 'chunks': ['28']}),\n",
       " ('欧洲李', '脂质氧化', {'label': '抑制', 'weight': 1, 'chunks': ['28']}),\n",
       " ('欧洲李', '抗结肠癌活性', {'label': '具有', 'weight': 1, 'chunks': ['28']}),\n",
       " ('欧洲李', '木糖醇', {'label': '含有', 'weight': 1, 'chunks': ['29']}),\n",
       " ('欧洲李', '山梨糖醇', {'label': '含有', 'weight': 1, 'chunks': ['29']})]"
      ]
     },
     "execution_count": 24,
     "metadata": {},
     "output_type": "execute_result"
    }
   ],
   "source": [
    "edges = [e for e in G.edges(data=True) if e[0] == \"欧洲李\"]\n",
    "edges.sort(key=lambda x: x[2][\"weight\"], reverse=True)\n",
    "edges"
   ]
  },
  {
   "cell_type": "code",
   "execution_count": 24,
   "metadata": {},
   "outputs": [
    {
     "name": "stdout",
     "output_type": "stream",
     "text": [
      "G.html\n"
     ]
    },
    {
     "name": "stderr",
     "output_type": "stream",
     "text": [
      "gio: file:///home/x/halo/misc/G.html: Failed to find default application for content type ‘text/plain’\n"
     ]
    }
   ],
   "source": [
    "vis = Network()\n",
    "vis.from_nx(G)\n",
    "vis.show(\"G.html\", notebook=False)"
   ]
  }
 ],
 "metadata": {
  "kernelspec": {
   "display_name": "halo",
   "language": "python",
   "name": "python3"
  },
  "language_info": {
   "codemirror_mode": {
    "name": "ipython",
    "version": 3
   },
   "file_extension": ".py",
   "mimetype": "text/x-python",
   "name": "python",
   "nbconvert_exporter": "python",
   "pygments_lexer": "ipython3",
   "version": "3.12.2"
  }
 },
 "nbformat": 4,
 "nbformat_minor": 2
}
