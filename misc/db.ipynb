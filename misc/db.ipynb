{
 "cells": [
  {
   "cell_type": "code",
   "execution_count": 2,
   "metadata": {},
   "outputs": [],
   "source": [
    "from tqdm import tqdm\n",
    "from dotenv import load_dotenv\n",
    "from zhipuai import ZhipuAI\n",
    "from chromadb import PersistentClient\n",
    "import pandas as pd\n",
    "import os\n",
    "\n",
    "load_dotenv()\n",
    "client_zhipu = ZhipuAI(api_key=os.getenv(\"ZHIPUAI_API_KEY\"))\n",
    "client_chroma = PersistentClient(\"chroma\")"
   ]
  },
  {
   "cell_type": "code",
   "execution_count": 3,
   "metadata": {},
   "outputs": [],
   "source": [
    "collection = client_chroma.create_collection(name=\"plum\")"
   ]
  },
  {
   "cell_type": "code",
   "execution_count": 4,
   "metadata": {},
   "outputs": [
    {
     "data": {
      "text/html": [
       "<div>\n",
       "<style scoped>\n",
       "    .dataframe tbody tr th:only-of-type {\n",
       "        vertical-align: middle;\n",
       "    }\n",
       "\n",
       "    .dataframe tbody tr th {\n",
       "        vertical-align: top;\n",
       "    }\n",
       "\n",
       "    .dataframe thead th {\n",
       "        text-align: right;\n",
       "    }\n",
       "</style>\n",
       "<table border=\"1\" class=\"dataframe\">\n",
       "  <thead>\n",
       "    <tr style=\"text-align: right;\">\n",
       "      <th></th>\n",
       "      <th>text</th>\n",
       "      <th>source</th>\n",
       "      <th>page</th>\n",
       "    </tr>\n",
       "  </thead>\n",
       "  <tbody>\n",
       "    <tr>\n",
       "      <th>0</th>\n",
       "      <td>李产业发展现状\\n一、中国李产业现状\\n(一)栽培历史\\n我国李栽培历史久远，原始居民就有采...</td>\n",
       "      <td>./李高效生产及绿色防控技术.pdf</td>\n",
       "      <td>0</td>\n",
       "    </tr>\n",
       "    <tr>\n",
       "      <th>1</th>\n",
       "      <td>李高效生产及绿色防控技术\\n考证，“藉栽”指自根繁殖，即包括扦插、压条、分株等无性繁殖方\\n...</td>\n",
       "      <td>./李高效生产及绿色防控技术.pdf</td>\n",
       "      <td>1</td>\n",
       "    </tr>\n",
       "    <tr>\n",
       "      <th>2</th>\n",
       "      <td>第一章李产业发展现状\\n年积温在4500~8000℃,最冷月平均气温0~15℃,是热带与温带...</td>\n",
       "      <td>./李高效生产及绿色防控技术.pdf</td>\n",
       "      <td>2</td>\n",
       "    </tr>\n",
       "    <tr>\n",
       "      <th>3</th>\n",
       "      <td>李高效生产及绿色防控技术\\n(3)资源品种。本区主要栽培种为中国李，部分为欧洲李、杏李\\n和...</td>\n",
       "      <td>./李高效生产及绿色防控技术.pdf</td>\n",
       "      <td>3</td>\n",
       "    </tr>\n",
       "    <tr>\n",
       "      <th>4</th>\n",
       "      <td>第一章李产业发展现状\\n2绥棱红(北方1号)，它的母本和父本分别来自于小黄李和福摩萨，\\n由...</td>\n",
       "      <td>./李高效生产及绿色防控技术.pdf</td>\n",
       "      <td>4</td>\n",
       "    </tr>\n",
       "    <tr>\n",
       "      <th>...</th>\n",
       "      <td>...</td>\n",
       "      <td>...</td>\n",
       "      <td>...</td>\n",
       "    </tr>\n",
       "    <tr>\n",
       "      <th>145</th>\n",
       "      <td>第五章李贮运保鲜与加工\\n(5)预煮。预煮前用1.5%的食盐水护色，最后用清水淘洗1次。\\n...</td>\n",
       "      <td>./李高效生产及绿色防控技术.pdf</td>\n",
       "      <td>145</td>\n",
       "    </tr>\n",
       "    <tr>\n",
       "      <th>146</th>\n",
       "      <td>李高效生产及绿色防控技术\\n2.主要加工设施设备\\n(1)清洗设备。鼓泡清洗机、毛刷清洗机、...</td>\n",
       "      <td>./李高效生产及绿色防控技术.pdf</td>\n",
       "      <td>146</td>\n",
       "    </tr>\n",
       "    <tr>\n",
       "      <th>147</th>\n",
       "      <td>第五章李贮运保鲜与加工\\n4.产品质量要求\\n(1)感官指标。具有该品种李加工后应有的正常颜...</td>\n",
       "      <td>./李高效生产及绿色防控技术.pdf</td>\n",
       "      <td>147</td>\n",
       "    </tr>\n",
       "    <tr>\n",
       "      <th>148</th>\n",
       "      <td>李高效生产及绿色防控技术\\n(3)清洗。采用果蔬专用清洗设备清洗表面灰尘、腐叶、虫卵等\\n污...</td>\n",
       "      <td>./李高效生产及绿色防控技术.pdf</td>\n",
       "      <td>148</td>\n",
       "    </tr>\n",
       "    <tr>\n",
       "      <th>149</th>\n",
       "      <td>第五章李贮运保鲜与加工\\n主要参考文献\\n曹建康，姜微波，赵玉梅，等，2007.果蔬采收生理...</td>\n",
       "      <td>./李高效生产及绿色防控技术.pdf</td>\n",
       "      <td>149</td>\n",
       "    </tr>\n",
       "  </tbody>\n",
       "</table>\n",
       "<p>150 rows × 3 columns</p>\n",
       "</div>"
      ],
      "text/plain": [
       "                                                  text              source  \\\n",
       "0    李产业发展现状\\n一、中国李产业现状\\n(一)栽培历史\\n我国李栽培历史久远，原始居民就有采...  ./李高效生产及绿色防控技术.pdf   \n",
       "1    李高效生产及绿色防控技术\\n考证，“藉栽”指自根繁殖，即包括扦插、压条、分株等无性繁殖方\\n...  ./李高效生产及绿色防控技术.pdf   \n",
       "2    第一章李产业发展现状\\n年积温在4500~8000℃,最冷月平均气温0~15℃,是热带与温带...  ./李高效生产及绿色防控技术.pdf   \n",
       "3    李高效生产及绿色防控技术\\n(3)资源品种。本区主要栽培种为中国李，部分为欧洲李、杏李\\n和...  ./李高效生产及绿色防控技术.pdf   \n",
       "4    第一章李产业发展现状\\n2绥棱红(北方1号)，它的母本和父本分别来自于小黄李和福摩萨，\\n由...  ./李高效生产及绿色防控技术.pdf   \n",
       "..                                                 ...                 ...   \n",
       "145  第五章李贮运保鲜与加工\\n(5)预煮。预煮前用1.5%的食盐水护色，最后用清水淘洗1次。\\n...  ./李高效生产及绿色防控技术.pdf   \n",
       "146  李高效生产及绿色防控技术\\n2.主要加工设施设备\\n(1)清洗设备。鼓泡清洗机、毛刷清洗机、...  ./李高效生产及绿色防控技术.pdf   \n",
       "147  第五章李贮运保鲜与加工\\n4.产品质量要求\\n(1)感官指标。具有该品种李加工后应有的正常颜...  ./李高效生产及绿色防控技术.pdf   \n",
       "148  李高效生产及绿色防控技术\\n(3)清洗。采用果蔬专用清洗设备清洗表面灰尘、腐叶、虫卵等\\n污...  ./李高效生产及绿色防控技术.pdf   \n",
       "149  第五章李贮运保鲜与加工\\n主要参考文献\\n曹建康，姜微波，赵玉梅，等，2007.果蔬采收生理...  ./李高效生产及绿色防控技术.pdf   \n",
       "\n",
       "     page  \n",
       "0       0  \n",
       "1       1  \n",
       "2       2  \n",
       "3       3  \n",
       "4       4  \n",
       "..    ...  \n",
       "145   145  \n",
       "146   146  \n",
       "147   147  \n",
       "148   148  \n",
       "149   149  \n",
       "\n",
       "[150 rows x 3 columns]"
      ]
     },
     "execution_count": 4,
     "metadata": {},
     "output_type": "execute_result"
    }
   ],
   "source": [
    "df_chunks = pd.read_csv(\"preprocessed/chunks.csv\", sep=\"|\", index_col=0)\n",
    "df_chunks"
   ]
  },
  {
   "cell_type": "code",
   "execution_count": 7,
   "metadata": {},
   "outputs": [
    {
     "name": "stdout",
     "output_type": "stream",
     "text": [
      "150 150 150\n"
     ]
    }
   ],
   "source": [
    "documents: list[str] = []\n",
    "metadatas: list[dict[str, str]] = []\n",
    "ids: list[str] = []\n",
    "for i, row in df_chunks.iterrows():\n",
    "  documents.append(row[\"text\"])\n",
    "  metadatas.append({\"source\": row[\"source\"], \"page\": row[\"page\"]})\n",
    "  ids.append(str(i))\n",
    "\n",
    "print(len(documents), len(metadatas), len(ids))"
   ]
  },
  {
   "cell_type": "code",
   "execution_count": 8,
   "metadata": {},
   "outputs": [
    {
     "name": "stderr",
     "output_type": "stream",
     "text": [
      "/home/x/.cache/chroma/onnx_models/all-MiniLM-L6-v2/onnx.tar.gz: 100%|██████████| 79.3M/79.3M [00:12<00:00, 6.85MiB/s]  \n"
     ]
    }
   ],
   "source": [
    "collection.add(\n",
    "  documents=documents,\n",
    "  metadatas=metadatas,\n",
    "  ids=ids\n",
    ")"
   ]
  },
  {
   "cell_type": "code",
   "execution_count": 27,
   "metadata": {},
   "outputs": [
    {
     "data": {
      "text/plain": [
       "{'ids': [['1', '144']],\n",
       " 'distances': [[1.0613503456115723, 1.0619239931054534]],\n",
       " 'metadatas': [[{'page': 1, 'source': './李高效生产及绿色防控技术.pdf'},\n",
       "   {'page': 144, 'source': './李高效生产及绿色防控技术.pdf'}]],\n",
       " 'embeddings': None,\n",
       " 'documents': [['李高效生产及绿色防控技术\\n考证，“藉栽”指自根繁殖，即包括扦插、压条、分株等无性繁殖方\\n法。《洛阳花木记》中最早记载有李的嫁接繁殖，应用在李上的砧木\\n有桃、李、杏、梅，不同的砧木其成活率、寿命、果实风味不同，该\\n书还提出李的栽培距离，且“树大连阴，则子细而味不佳”“太密则\\n子小而不脆”。1857年清代的王逢辰撰写的《槜李谱》，是我国历\\n史上关于李的专著，书中分别从字义、栽种、分植、远移、接换、枯\\n蛀、花实、采摘、收贮、真伪、形体、价值、爪痕等28个方面加以\\n论述，如关于大小年结果的“花时晴雨调匀，则结子必繁，可望大\\n年；久晴过燥，久雨过湿，则子必稀少，即为小年；所最忌者雾，四\\n五月中若遇连朝重雾，子必尽落”。关于采摘的“逐日清晨视其树\\n上，青颗变为黄晕，若兰花色，且须透出朱砂红斑点，方可采摘。过\\n青太生，过红太熟”。\\n(二)栽培区域分布\\n李是我国分布最为广泛的果树之一，几乎各省份均有野生或栽\\n培。据调查，除青藏高原高海拔地区外，南至广东，北至黑龙江，从\\n东南沿海到新疆，都有栽培或野生的李资源，垂直分布最高可达海拔\\n4000米。中国李历经3000多年的栽培与驯化，自然形成一南一北两\\n大产区，南方产区为李生产和加工的传统产区，北方为我国鲜食李产\\n区。\\n1.南方产区南方产区是我国最大的李生产与加工出口区，包括\\n长江、秦岭、淮河以南区域。\\n(1)区域分布。本区包括江苏、安徽、浙江、福建、台湾、湖\\n北、湖南、江西、广东、广西、四川、重庆、贵州、云南等，是我国\\n亚热带和热带果树的生长区域。\\n(2)生态条件。本区主要属于亚热带至热带湿润季风气候，云\\n南、贵州、四川有部分温带、亚热带高原气候，主要分布在我国东部\\n秦岭淮河以南、热带季风气候型以北、青藏高原以东的地带。夏季炎\\n热，最热月平均气温大于22℃，气温的季节变化显著，四季分明。\\n年降水量一般在1000~1500毫米。同温带季风气候相比，季节变化基\\n本相似，只是冬季气温相对较高，年降水量增多。\\n·2·',\n",
       "   '李高效生产及绿色防控技术\\n(3)污染物限量。应符合GB2762的规定。\\n(4)微生物限量。菌落总数≤50CFU/毫升,大肠菌群≤3MPN，致病\\n菌(沙门氏菌、志贺氏菌、金黄色葡萄球菌)不得检出。\\n(四)李罐头\\n1.主要加工设施设备\\n(1)清洗设备。鼓泡清洗机、毛刷清洗机。\\n(2)去皮去核设施设备。可倾式夹层锅、搓皮机、李果去核机或手\\n持去核器、冷却池。\\n(3)预煮设备。可倾式夹层锅。\\n(4)计量设备。电子秤、定量液体灌装机。\\n(5)封罐设备。负压封口机。\\n(6)杀菌设备。双层水浴式杀菌釜。\\n2.工艺流程\\n首先对李果原料进行清洗，洗去表面的灰尘、污物、腐叶等，然后去\\n皮再次漂洗后对李果进行去核处理，随后预煮去核后的李果实，预煮后将\\n李果装罐并向罐中注入糖水，随后排气密封，将密封后的罐头置于灭菌\\n锅中灭菌，最后将灭菌后的罐头适当冷却后擦干罐身，在37℃下保温\\n7天检验，合格后入库。\\n3.操作要点\\n(1)原料。选择完熟，组织未软化，无霉变、无褐变、无腐烂及病\\n虫害的李果实作为加工原料，李果实污染物及农药残留应符合GB27\\n62、GB2763的要求。\\n(2)清洗。采用人工或水果清洗设备清洗表面灰尘、污物、腐叶\\n等。\\n(3)去皮漂洗。配制3%的氢氧化钠溶液加热到95~100℃,恒温2~3\\n分钟后捞出迅速倒入冷水池中，用手或搓皮机去皮后洗净，除尽果面上的\\n残碱。\\n(4)去核。采用定制半自动去核设备或人工去核器去核，注意挑选出\\n未能去核的李果实。\\n·148·']],\n",
       " 'uris': None,\n",
       " 'data': None}"
      ]
     },
     "execution_count": 27,
     "metadata": {},
     "output_type": "execute_result"
    }
   ],
   "source": [
    "chunks = collection.query(\n",
    "  query_texts=[\"兴华李是如何培育的？\"],\n",
    "  n_results=2\n",
    ")\n",
    "chunks"
   ]
  }
 ],
 "metadata": {
  "kernelspec": {
   "display_name": "halo",
   "language": "python",
   "name": "python3"
  },
  "language_info": {
   "codemirror_mode": {
    "name": "ipython",
    "version": 3
   },
   "file_extension": ".py",
   "mimetype": "text/x-python",
   "name": "python",
   "nbconvert_exporter": "python",
   "pygments_lexer": "ipython3",
   "version": "3.12.2"
  }
 },
 "nbformat": 4,
 "nbformat_minor": 2
}
