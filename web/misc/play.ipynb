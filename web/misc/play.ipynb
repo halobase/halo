{
 "cells": [
  {
   "cell_type": "code",
   "execution_count": 1,
   "metadata": {},
   "outputs": [],
   "source": [
    "from zhipuai import ZhipuAI\n",
    "api_url = 'https://open.bigmodel.cn/api/paas/v4'\n",
    "api_key = '0a502a38484c564bb123ff9a27bc3d3c.KR9qWCf9jfjHeMmy'"
   ]
  },
  {
   "cell_type": "code",
   "execution_count": 2,
   "metadata": {},
   "outputs": [],
   "source": [
    "import time\n",
    "import jwt\n",
    " \n",
    "def generate_token(apikey: str, exp_seconds: int):\n",
    "    try:\n",
    "        id, secret = apikey.split(\".\")\n",
    "    except Exception as e:\n",
    "        raise Exception(\"invalid apikey\", e)\n",
    " \n",
    "    payload = {\n",
    "        \"api_key\": id,\n",
    "        \"exp\": int(round(time.time() * 1000)) + exp_seconds * 1000,\n",
    "        \"timestamp\": int(round(time.time() * 1000)),\n",
    "    }\n",
    " \n",
    "    return jwt.encode(\n",
    "        payload,\n",
    "        secret,\n",
    "        algorithm=\"HS256\",\n",
    "        headers={\"alg\": \"HS256\", \"sign_type\": \"SIGN\"},\n",
    "    )"
   ]
  },
  {
   "cell_type": "code",
   "execution_count": 2,
   "metadata": {},
   "outputs": [],
   "source": [
    "client = ZhipuAI(api_key=api_key)"
   ]
  },
  {
   "cell_type": "code",
   "execution_count": 6,
   "metadata": {},
   "outputs": [],
   "source": [
    "req = {\n",
    "    'model': 'glm-3-turbo',\n",
    "    'stream': True,\n",
    "    'messages': [\n",
    "        # {\n",
    "        #     'role': 'user',\n",
    "        #     'content': '先识别图里是啥 https://sfile.chatglm.cn/chatglm4/41b139ca-0a63-41a0-8f42-3427f4e26119.jpg 再回答李子的南方产区分布'\n",
    "        # },\n",
    "        # {\n",
    "        #     'role': 'user',\n",
    "        #     'content': '李子的南方产区分布'\n",
    "        # },\n",
    "        {\n",
    "            'role': 'user',\n",
    "            'content': '图里是啥 https://sfile.chatglm.cn/chatglm4/41b139ca-0a63-41a0-8f42-3427f4e26119.jpg'\n",
    "        },\n",
    "    ],\n",
    "    'tools': [\n",
    "        {\n",
    "            'type': 'retrieval',\n",
    "            'retrieval': {\n",
    "                'knowledge_id': '1749406324015435776'\n",
    "            }\n",
    "        },\n",
    "        {\n",
    "            'type': 'function',\n",
    "            'function': {\n",
    "                'name': 'image_recognition',\n",
    "                'description': '图像识别，用于识别图片里的内容',\n",
    "                'parameters': {\n",
    "                    'type': 'object',\n",
    "                    'properties': {\n",
    "                        'image_url': {\n",
    "                            'type': 'string',\n",
    "                            'descroption': '图片地址'\n",
    "                        }\n",
    "                    },\n",
    "                    'required': [\n",
    "                        'image_url'\n",
    "                    ]\n",
    "                }\n",
    "            }\n",
    "        }\n",
    "    ]\n",
    "}"
   ]
  },
  {
   "cell_type": "code",
   "execution_count": 7,
   "metadata": {},
   "outputs": [
    {
     "name": "stdout",
     "output_type": "stream",
     "text": [
      "id='8313819768904406326' choices=[Choice(delta=ChoiceDelta(content=None, role='assistant', tool_calls=[ChoiceDeltaToolCall(index=0, id='call_8313819768904406326', function=ChoiceDeltaToolCallFunction(arguments='{\"image_url\":\"https://sfile.chatglm.cn/chatglm4/41b139ca-0a63-41a0-8f42-3427f4e26119.jpg\"}', name='image_recognition'), type='function')]), finish_reason='tool_calls', index=0)] created=1706599096 model='glm-3-turbo' usage=None\n",
      "id='8313819768904406326' choices=[Choice(delta=ChoiceDelta(content='', role='assistant', tool_calls=None), finish_reason='tool_calls', index=0)] created=1706599096 model='glm-3-turbo' usage=CompletionUsage(prompt_tokens=194, completion_tokens=75, total_tokens=269)\n"
     ]
    }
   ],
   "source": [
    "res = client.chat.completions.create(**req)\n",
    "for chunk in res:\n",
    "    print(chunk)"
   ]
  }
 ],
 "metadata": {
  "kernelspec": {
   "display_name": "ai",
   "language": "python",
   "name": "python3"
  },
  "language_info": {
   "codemirror_mode": {
    "name": "ipython",
    "version": 3
   },
   "file_extension": ".py",
   "mimetype": "text/x-python",
   "name": "python",
   "nbconvert_exporter": "python",
   "pygments_lexer": "ipython3",
   "version": "3.12.0"
  }
 },
 "nbformat": 4,
 "nbformat_minor": 2
}
